{
 "cells": [
  {
   "cell_type": "code",
   "execution_count": 5,
   "id": "9a759dee-c8c1-43e1-8e45-50cd2f3137e6",
   "metadata": {},
   "outputs": [
    {
     "name": "stderr",
     "output_type": "stream",
     "text": [
      "C:\\Users\\mathew.j\\AppData\\Local\\Temp\\ipykernel_21376\\556907150.py:4: DtypeWarning: Columns (0,3,4,5,9) have mixed types. Specify dtype option on import or set low_memory=False.\n",
      "  df = pd.read_csv('athlete_events.csv', on_bad_lines='skip')\n"
     ]
    },
    {
     "name": "stdout",
     "output_type": "stream",
     "text": [
      "  ID                      Name Sex Age Height Weight            Team  NOC  \\\n",
      "0  1                 A Dijiang   M  24    180     80           China  CHN   \n",
      "1  2                  A Lamusi   M  23    170     60           China  CHN   \n",
      "2  3       Gunnar Nielsen Aaby   M  24    NaN    NaN         Denmark  DEN   \n",
      "3  4      Edgar Lindenau Aabye   M  34    NaN    NaN  Denmark/Sweden  DEN   \n",
      "4  5  Christine Jacoba Aaftink   F  21    185     82     Netherlands  NED   \n",
      "\n",
      "         Games  Year  Season       City          Sport  \\\n",
      "0  1992 Summer  1992  Summer  Barcelona     Basketball   \n",
      "1  2012 Summer  2012  Summer     London           Judo   \n",
      "2  1920 Summer  1920  Summer  Antwerpen       Football   \n",
      "3  1900 Summer  1900  Summer      Paris     Tug-Of-War   \n",
      "4  1988 Winter  1988  Winter    Calgary  Speed Skating   \n",
      "\n",
      "                              Event Medal  \n",
      "0       Basketball Men's Basketball   NaN  \n",
      "1      Judo Men's Extra-Lightweight   NaN  \n",
      "2           Football Men's Football   NaN  \n",
      "3       Tug-Of-War Men's Tug-Of-War  Gold  \n",
      "4  Speed Skating Women's 500 metres   NaN  \n"
     ]
    }
   ],
   "source": [
    "import pandas as pd\n",
    "\n",
    "# Load the CSV, skipping bad lines\n",
    "df = pd.read_csv('athlete_events.csv', on_bad_lines='skip')\n",
    "\n",
    "# Display the first few rows of the dataframe\n",
    "print(df.head())\n"
   ]
  },
  {
   "cell_type": "code",
   "execution_count": 6,
   "id": "e8a3a2e7-fad2-4eb1-9413-7d00fbb397b7",
   "metadata": {},
   "outputs": [
    {
     "name": "stdout",
     "output_type": "stream",
     "text": [
      "(528320, 15)\n"
     ]
    }
   ],
   "source": [
    "print(df.shape)  # Returns the number of rows and columns\n"
   ]
  },
  {
   "cell_type": "code",
   "execution_count": 7,
   "id": "031f7fc8-b2c5-40d3-8c8d-1e384c7ac2a7",
   "metadata": {},
   "outputs": [
    {
     "name": "stdout",
     "output_type": "stream",
     "text": [
      "ID        object\n",
      "Name      object\n",
      "Sex       object\n",
      "Age       object\n",
      "Height    object\n",
      "Weight    object\n",
      "Team      object\n",
      "NOC       object\n",
      "Games     object\n",
      "Year      object\n",
      "Season    object\n",
      "City      object\n",
      "Sport     object\n",
      "Event     object\n",
      "Medal     object\n",
      "dtype: object\n"
     ]
    }
   ],
   "source": [
    "print(df.dtypes)  # Check the data types of each column\n"
   ]
  },
  {
   "cell_type": "code",
   "execution_count": 8,
   "id": "8416ba7a-58f8-4404-aaec-a304c07d568c",
   "metadata": {},
   "outputs": [
    {
     "name": "stdout",
     "output_type": "stream",
     "text": [
      "ID             1\n",
      "Name           1\n",
      "Sex            5\n",
      "Age        18325\n",
      "Height    117295\n",
      "Weight    122589\n",
      "Team          11\n",
      "NOC           14\n",
      "Games         14\n",
      "Year          18\n",
      "Season        19\n",
      "City          20\n",
      "Sport         20\n",
      "Event         24\n",
      "Medal     450520\n",
      "dtype: int64\n"
     ]
    }
   ],
   "source": [
    "print(df.isnull().sum())  # Check how many missing values are in each column\n"
   ]
  },
  {
   "cell_type": "code",
   "execution_count": 9,
   "id": "8af2070a-9f47-48fe-8977-d72931a4f79c",
   "metadata": {},
   "outputs": [
    {
     "name": "stdout",
     "output_type": "stream",
     "text": [
      "  ID                      Name Sex Age Height Weight            Team  NOC  \\\n",
      "0  1                 A Dijiang   M  24    180     80           China  CHN   \n",
      "1  2                  A Lamusi   M  23    170     60           China  CHN   \n",
      "2  3       Gunnar Nielsen Aaby   M  24    NaN    NaN         Denmark  DEN   \n",
      "3  4      Edgar Lindenau Aabye   M  34    NaN    NaN  Denmark/Sweden  DEN   \n",
      "4  5  Christine Jacoba Aaftink   F  21    185     82     Netherlands  NED   \n",
      "\n",
      "         Games  Year  Season       City          Sport  \\\n",
      "0  1992 Summer  1992  Summer  Barcelona     Basketball   \n",
      "1  2012 Summer  2012  Summer     London           Judo   \n",
      "2  1920 Summer  1920  Summer  Antwerpen       Football   \n",
      "3  1900 Summer  1900  Summer      Paris     Tug-Of-War   \n",
      "4  1988 Winter  1988  Winter    Calgary  Speed Skating   \n",
      "\n",
      "                              Event Medal  \n",
      "0       Basketball Men's Basketball   NaN  \n",
      "1      Judo Men's Extra-Lightweight   NaN  \n",
      "2           Football Men's Football   NaN  \n",
      "3       Tug-Of-War Men's Tug-Of-War  Gold  \n",
      "4  Speed Skating Women's 500 metres   NaN  \n"
     ]
    }
   ],
   "source": [
    "print(df.head())  # Display the first few rows of the data\n"
   ]
  },
  {
   "cell_type": "code",
   "execution_count": 11,
   "id": "aa6acb86-896d-4a64-b959-040167cd36cc",
   "metadata": {},
   "outputs": [],
   "source": [
    "# Convert data types if necessary\n",
    "df['Age'] = pd.to_numeric(df['Age'], errors='coerce')  # Convert Age to numeric, coercing errors to NaN\n"
   ]
  },
  {
   "cell_type": "code",
   "execution_count": 12,
   "id": "5f8d8300-6702-44ff-8b32-08500e9dc54c",
   "metadata": {},
   "outputs": [
    {
     "name": "stderr",
     "output_type": "stream",
     "text": [
      "C:\\Users\\mathew.j\\AppData\\Local\\Temp\\ipykernel_21376\\3645943034.py:5: FutureWarning: A value is trying to be set on a copy of a DataFrame or Series through chained assignment using an inplace method.\n",
      "The behavior will change in pandas 3.0. This inplace method will never work because the intermediate object on which we are setting values always behaves as a copy.\n",
      "\n",
      "For example, when doing 'df[col].method(value, inplace=True)', try using 'df.method({col: value}, inplace=True)' or df[col] = df[col].method(value) instead, to perform the operation inplace on the original object.\n",
      "\n",
      "\n",
      "  df['Age'].fillna(df['Age'].mean(), inplace=True)\n",
      "C:\\Users\\mathew.j\\AppData\\Local\\Temp\\ipykernel_21376\\3645943034.py:6: FutureWarning: A value is trying to be set on a copy of a DataFrame or Series through chained assignment using an inplace method.\n",
      "The behavior will change in pandas 3.0. This inplace method will never work because the intermediate object on which we are setting values always behaves as a copy.\n",
      "\n",
      "For example, when doing 'df[col].method(value, inplace=True)', try using 'df.method({col: value}, inplace=True)' or df[col] = df[col].method(value) instead, to perform the operation inplace on the original object.\n",
      "\n",
      "\n",
      "  df['Medal'].fillna('None', inplace=True)\n"
     ]
    }
   ],
   "source": [
    "# Drop rows with missing values\n",
    "df_cleaned = df.dropna()\n",
    "\n",
    "# Or fill missing values (e.g., with the column mean or a default value)\n",
    "df['Age'].fillna(df['Age'].mean(), inplace=True)\n",
    "df['Medal'].fillna('None', inplace=True)\n"
   ]
  },
  {
   "cell_type": "code",
   "execution_count": 13,
   "id": "3093af82-d1be-4e4a-800d-836e3d807867",
   "metadata": {},
   "outputs": [
    {
     "name": "stdout",
     "output_type": "stream",
     "text": [
      "  ID                      Name Sex   Age Height Weight            Team  NOC  \\\n",
      "0  1                 A Dijiang   M  24.0    180     80           China  CHN   \n",
      "1  2                  A Lamusi   M  23.0    170     60           China  CHN   \n",
      "2  3       Gunnar Nielsen Aaby   M  24.0    NaN    NaN         Denmark  DEN   \n",
      "3  4      Edgar Lindenau Aabye   M  34.0    NaN    NaN  Denmark/Sweden  DEN   \n",
      "4  5  Christine Jacoba Aaftink   F  21.0    185     82     Netherlands  NED   \n",
      "\n",
      "         Games  Year  Season       City          Sport  \\\n",
      "0  1992 Summer  1992  Summer  Barcelona     Basketball   \n",
      "1  2012 Summer  2012  Summer     London           Judo   \n",
      "2  1920 Summer  1920  Summer  Antwerpen       Football   \n",
      "3  1900 Summer  1900  Summer      Paris     Tug-Of-War   \n",
      "4  1988 Winter  1988  Winter    Calgary  Speed Skating   \n",
      "\n",
      "                              Event Medal  \n",
      "0       Basketball Men's Basketball  None  \n",
      "1      Judo Men's Extra-Lightweight  None  \n",
      "2           Football Men's Football  None  \n",
      "3       Tug-Of-War Men's Tug-Of-War  Gold  \n",
      "4  Speed Skating Women's 500 metres  None  \n"
     ]
    }
   ],
   "source": [
    "import pandas as pd\n",
    "\n",
    "# Fill missing values in the 'Age' column with the column's mean\n",
    "df['Age'] = df['Age'].fillna(df['Age'].mean())\n",
    "\n",
    "# Fill missing values in the 'Medal' column with 'None'\n",
    "df['Medal'] = df['Medal'].fillna('None')\n",
    "\n",
    "# Check if it worked without any warnings\n",
    "print(df.head())\n"
   ]
  },
  {
   "cell_type": "code",
   "execution_count": 14,
   "id": "ba087170-5038-4cc6-9f95-82d64651904f",
   "metadata": {},
   "outputs": [
    {
     "name": "stdout",
     "output_type": "stream",
     "text": [
      "                 Age\n",
      "count  528320.000000\n",
      "mean       25.561529\n",
      "std         6.299442\n",
      "min        10.000000\n",
      "25%        22.000000\n",
      "50%        25.000000\n",
      "75%        28.000000\n",
      "max       190.000000\n"
     ]
    }
   ],
   "source": [
    "print(df.describe())  # Summary statistics of numerical columns\n"
   ]
  },
  {
   "cell_type": "code",
   "execution_count": 15,
   "id": "e9ab3ecc-e3b7-4851-ac30-148a8d7f4a95",
   "metadata": {},
   "outputs": [],
   "source": [
    "# Average age of athletes by sport\n",
    "avg_age_by_sport = df.groupby('Sport')['Age'].mean()\n",
    "\n",
    "# Number of medals by country (NOC)\n",
    "medals_by_country = df.groupby('NOC')['Medal'].count()\n"
   ]
  },
  {
   "cell_type": "code",
   "execution_count": 16,
   "id": "f27041ab-a7c7-4b16-abcd-81a69811addb",
   "metadata": {},
   "outputs": [
    {
     "data": {
      "image/png": "[encoded data removed]",
      "text/plain": [
       "<Figure size 640x480 with 1 Axes>"
      ]
     },
     "metadata": {},
     "output_type": "display_data"
    },
    {
     "data": {
      "image/png": "[encoded data removed]",
      "text/plain": [
       "<Figure size 640x480 with 1 Axes>"
      ]
     },
     "metadata": {},
     "output_type": "display_data"
    }
   ],
   "source": [
    "import seaborn as sns\n",
    "import matplotlib.pyplot as plt\n",
    "\n",
    "# Distribution of Age\n",
    "sns.histplot(df['Age'], bins=30)\n",
    "plt.title('Distribution of Athlete Age')\n",
    "plt.show()\n",
    "\n",
    "# Medals by Country (Top 10)\n",
    "top_10_medal_countries = df['NOC'].value_counts().head(10)\n",
    "top_10_medal_countries.plot(kind='bar', title='Top 10 Countries by Medal Count')\n",
    "plt.show()\n"
   ]
  },
  {
   "cell_type": "code",
   "execution_count": 17,
   "id": "0f243c98-f93d-4afa-aa06-3f5f75267fce",
   "metadata": {},
   "outputs": [
    {
     "name": "stdout",
     "output_type": "stream",
     "text": [
      "Name\n",
      "Robert Tait McKenzie                116\n",
      "Heikki Ilmari Savolainen             78\n",
      "Joseph \"Josy\" Stoffel                76\n",
      "Ioannis Theofilakis                  72\n",
      "Takashi Ono                          66\n",
      "Jean Lucien Nicolas Jacoby           64\n",
      "Andreas Wecker                       64\n",
      "Alexandros Theofilakis               64\n",
      "Alfrd (Arnold-) Hajs (Guttmann-)     64\n",
      "Alfred James Munnings                62\n",
      "Name: Medal, dtype: int64\n"
     ]
    }
   ],
   "source": [
    "top_athletes = df[df['Medal'].notnull()].groupby('Name')['Medal'].count().sort_values(ascending=False).head(10)\n",
    "print(top_athletes)\n"
   ]
  },
  {
   "cell_type": "code",
   "execution_count": 18,
   "id": "85fa5026-3fb4-4877-bf86-ad798dd3bd49",
   "metadata": {},
   "outputs": [
    {
     "data": {
      "image/png": "[encoded data removed]",
      "text/plain": [
       "<Figure size 640x480 with 1 Axes>"
      ]
     },
     "metadata": {},
     "output_type": "display_data"
    }
   ],
   "source": [
    "# Average age of medalists over time\n",
    "df_medalists = df[df['Medal'].notnull()]\n",
    "avg_age_medalists = df_medalists.groupby('Year')['Age'].mean()\n",
    "avg_age_medalists.plot(title='Average Age of Medalists Over Time')\n",
    "plt.show()\n"
   ]
  },
  {
   "cell_type": "code",
   "execution_count": 21,
   "id": "5229e4c9-39df-415e-9ed7-4e53156ee8ef",
   "metadata": {},
   "outputs": [
    {
     "name": "stdout",
     "output_type": "stream",
     "text": [
      "['180' '170' nan '185' '188' '183' '168' '186' '182' '172' '159' '171'\n",
      " '184' '175' '189' '176' '163' '187' '169' '174' '190' '194' '177' '167'\n",
      " '164' '198' '165' '156' '179' '178' '166' '181' '155' '160' '173' '192'\n",
      " '195' '191' '203' '158' '154' '153' '152' '193' '162' '197' '157' '207'\n",
      " '147' '150' '202' '161' '210' '205' '200' '148' '208' '140' '213' '204'\n",
      " '151' '196' '146' '201' '132' '149' '199' '211' '217' '206' '209' '145'\n",
      " '221' '144' '215' '139' '135' '142' '214' '143' '218' '127' '223' '216'\n",
      " '141' 'N 5 kilometres Relay\"' '1924' 166.0 175.0 181.0 187.0 163.0 170.0\n",
      " 178.0 186.0 185.0 180.0 177.0 167.0 190.0 173.0 162.0 156.0 176.0 209.0\n",
      " 179.0 155.0 174.0 183.0 182.0 192.0 188.0 196.0 164.0 172.0 152.0 189.0\n",
      " 201.0 195.0 184.0 160.0 168.0 165.0 194.0 193.0 191.0 158.0 171.0 213.0\n",
      " 153.0 169.0 198.0 210.0 161.0 154.0 159.0 143.0 157.0 197.0 200.0 202.0\n",
      " 148.0 206.0 149.0 199.0 150.0 147.0 151.0 217.0 203.0 207.0 94.0 205.0\n",
      " 145.0 216.0 204.0 141.0 135.0 208.0 144.0 140.0 132.0 142.0 146.0 215.0\n",
      " 212.0 214.0 211.0 221.0 131.0 136.0 137.0 '138' '136' '131' '137' '181l\"'\n",
      " '2012 Summer' '212' '77' '65' \"Cortina d'Ampezzo\" '220'\n",
      " \"Archery Men's Team\" '130' '219' 133.0 128.0 220.0 219.0 '133'\n",
      " \"Athletics Men's Pole Vault\" '1964' 218.0 226.0 139.0]\n",
      "['80' '60' nan '82' '75' '72' '96' '76.5' '70' '55.5' '65' '85' '64' '130'\n",
      " '125' '89' '77' '76' '98' '78' '73' '93' '74' '106' '58' '66' '71' '90'\n",
      " '87' '49' '48' '83' '86' '55' '67' '97' '105' '43' '79' '51' '88' '62'\n",
      " '53' '104' '57' '63' '52' '91' '94' '56' '68' '61' '69' '46' '100' '81'\n",
      " '92' '120' '95' '59' '50' '117.5' '54' '47' '117' '84' '102' '40' '115'\n",
      " '110' '45' '99' '109' '69.5' '135' '38' '77.5' '103' '163' '113' '42'\n",
      " '91.5' '82.5' '68.5' '116' '107' '96.5' '83.5' '44' '122' '102.5' '71.5'\n",
      " '156' '150' '160' '95.5' '101' '146' '138' '112' '108' '140' '141' '63.5'\n",
      " '67.5' '114' '132' '128' '39' '65.5' '98.5' '124' '41' '59.5' '66.5'\n",
      " '127.5' '111' 'Sweden' '118' '52.5' '127' '73.5' '155' '74.5' '32' '143'\n",
      " '133' '70.5' '126' '53.5' '121' '123.5' '36' '35' '144' '58.5' '214'\n",
      " '81.5' '37' '146.5' '116.5' '148' '123' '89.5' '133.5' '86.5' '85.5'\n",
      " '101.5' '154' '139' '57.5' '136' '54.5' '137' '170' '30' '25'\n",
      " '77.3333333333333' 'Gold' 'Summer' '131' 'United States' '79.5' '34'\n",
      " '119' '134' '33' '109.5' '90.5' '129' '147' '56.5' '78.5' '165' '88.5'\n",
      " '62.5' '60.5' '158' '75.5' '190' '64.5' '1972' '145' 'Bronze' '121.5'\n",
      " '61.5' '2012' '161' '176.5' '87.5' '100.5' '149' '152' '108.5'\n",
      " 'New Zealand' '28' '48.5' '138.5' '72.5' '129.5' 'Bobsleigh' '131.5'\n",
      " '167' '84.5' '49.5' '51.5' '112.5' '118.5' 59.0 56.0 83.0 65.0 77.0 60.0\n",
      " 63.0 57.0 82.0 84.0 81.0 74.0 98.0 88.0 92.0 85.0 69.0 66.0 68.0 90.0\n",
      " 70.0 80.0 50.0 73.0 86.0 79.0 75.0 49.0 53.0 71.0 96.0 104.0 100.0 62.0\n",
      " 78.0 89.0 93.0 48.0 67.0 55.0 105.0 58.0 52.0 47.0 72.0 44.0 64.0 101.0\n",
      " 120.0 51.0 76.0 95.0 97.0 43.0 61.0 94.0 54.0 41.0 106.0 40.0 102.0 36.0\n",
      " 91.0 108.0 103.0 99.0 46.0 87.0 127.0 114.0 115.0 119.0 45.0 68.5 112.0\n",
      " 118.0 125.0 107.0 39.0 37.0 116.0 34.0 150.0 32.0 63.5 38.0 88.5 86.5\n",
      " 64.5 70.5 110.0 67.5 51.5 122.0 146.0 33.0 109.0 132.0 42.0 121.0 111.0\n",
      " 84.5 142.0 71.5 80.5 131.0 106.5 60.5 145.0 133.0 66.5 123.0 155.0 113.0\n",
      " 107.5 59.5 31.0 35.0 117.0 140.0 135.0 135.5 130.0 73.5 54.5 98.5 112.5\n",
      " 75.5 83.5 85.5 53.5 78.5 118.5 108.5 124.0 30.0 138.0 87.5 72.5 139.0\n",
      " 134.0 82.5 52.5 160.0 137.5 74.5 170.0 148.0 128.0 93.5 97.5 103.5 65.5\n",
      " 175.0 90.5 129.0 137.0 81.5 163.0 141.0 126.0 161.0 55.5 77.5 79.5 144.0\n",
      " 154.0 143.0 69.5 117.5 102.5 76.5 136.0 151.0 198.0 '151' '198' '178'\n",
      " '92.5' '180' '104.5' '31' '105.5' '122.5' '142' '103.5' '182' '97.5' 92.5\n",
      " 182.0 62.5 61.5 74.6666666666667 57.5 130.5 28.0 165.0]\n"
     ]
    }
   ],
   "source": [
    "# Check for non-numeric values in Height and Weight\n",
    "print(df['Height'].unique())  # Look at unique values in Height\n",
    "print(df['Weight'].unique())  # Look at unique values in Weight\n"
   ]
  },
  {
   "cell_type": "code",
   "execution_count": 22,
   "id": "dd67ceff-37b8-4321-ab68-9db95b2c0223",
   "metadata": {},
   "outputs": [
    {
     "name": "stdout",
     "output_type": "stream",
     "text": [
      "[ 180.  170.   nan  185.  188.  183.  168.  186.  182.  172.  159.  171.\n",
      "  184.  175.  189.  176.  163.  187.  169.  174.  190.  194.  177.  167.\n",
      "  164.  198.  165.  156.  179.  178.  166.  181.  155.  160.  173.  192.\n",
      "  195.  191.  203.  158.  154.  153.  152.  193.  162.  197.  157.  207.\n",
      "  147.  150.  202.  161.  210.  205.  200.  148.  208.  140.  213.  204.\n",
      "  151.  196.  146.  201.  132.  149.  199.  211.  217.  206.  209.  145.\n",
      "  221.  144.  215.  139.  135.  142.  214.  143.  218.  127.  223.  216.\n",
      "  141.    5. 1924.  138.  136.  131.  137. 2012.  212.   77.   65.  220.\n",
      "  130.  219.  133. 1964.]\n",
      "[  80.           60.                   nan   82.           75.\n",
      "   72.           96.           76.5          70.           55.5\n",
      "   65.           85.           64.          130.          125.\n",
      "   89.           77.           76.           98.           78.\n",
      "   73.           93.           74.          106.           58.\n",
      "   66.           71.           90.           87.           49.\n",
      "   48.           83.           86.           55.           67.\n",
      "   97.          105.           43.           79.           51.\n",
      "   88.           62.           53.          104.           57.\n",
      "   63.           52.           91.           94.           56.\n",
      "   68.           61.           69.           46.          100.\n",
      "   81.           92.          120.           95.           59.\n",
      "   50.          117.5          54.           47.          117.\n",
      "   84.          102.           40.          115.          110.\n",
      "   45.           99.          109.           69.5         135.\n",
      "   38.           77.5         103.          163.          113.\n",
      "   42.           91.5          82.5          68.5         116.\n",
      "  107.           96.5          83.5          44.          122.\n",
      "  102.5          71.5         156.          150.          160.\n",
      "   95.5         101.          146.          138.          112.\n",
      "  108.          140.          141.           63.5          67.5\n",
      "  114.          132.          128.           39.           65.5\n",
      "   98.5         124.           41.           59.5          66.5\n",
      "  127.5         111.          118.           52.5         127.\n",
      "   73.5         155.           74.5          32.          143.\n",
      "  133.           70.5         126.           53.5         121.\n",
      "  123.5          36.           35.          144.           58.5\n",
      "  214.           81.5          37.          146.5         116.5\n",
      "  148.          123.           89.5         133.5          86.5\n",
      "   85.5         101.5         154.          139.           57.5\n",
      "  136.           54.5         137.          170.           30.\n",
      "   25.           77.33333333  131.           79.5          34.\n",
      "  119.          134.           33.          109.5          90.5\n",
      "  129.          147.           56.5          78.5         165.\n",
      "   88.5          62.5          60.5         158.           75.5\n",
      "  190.           64.5        1972.          145.          121.5\n",
      "   61.5        2012.          161.          176.5          87.5\n",
      "  100.5         149.          152.          108.5          28.\n",
      "   48.5         138.5          72.5         129.5         131.5\n",
      "  167.           84.5          49.5          51.5         112.5\n",
      "  118.5         151.          198.          178.           92.5\n",
      "  180.          104.5          31.          105.5         122.5\n",
      "  142.          103.5         182.           97.5       ]\n"
     ]
    }
   ],
   "source": [
    "# Function to clean the data\n",
    "def clean_numeric(column):\n",
    "    # Remove any non-numeric characters\n",
    "    return pd.to_numeric(column.str.replace(r'[^0-9.]', '', regex=True), errors='coerce')\n",
    "\n",
    "# Clean Height and Weight columns\n",
    "df['Height'] = clean_numeric(df['Height'])\n",
    "df['Weight'] = clean_numeric(df['Weight'])\n",
    "\n",
    "# Now check if the cleaning worked\n",
    "print(df['Height'].unique())\n",
    "print(df['Weight'].unique())\n"
   ]
  },
  {
   "cell_type": "code",
   "execution_count": 23,
   "id": "3aaeae06-de42-4498-aa0a-f703e3b7dafd",
   "metadata": {},
   "outputs": [
    {
     "name": "stderr",
     "output_type": "stream",
     "text": [
      "C:\\Users\\mathew.j\\AppData\\Local\\Temp\\ipykernel_21376\\95895862.py:2: FutureWarning: A value is trying to be set on a copy of a DataFrame or Series through chained assignment using an inplace method.\n",
      "The behavior will change in pandas 3.0. This inplace method will never work because the intermediate object on which we are setting values always behaves as a copy.\n",
      "\n",
      "For example, when doing 'df[col].method(value, inplace=True)', try using 'df.method({col: value}, inplace=True)' or df[col] = df[col].method(value) instead, to perform the operation inplace on the original object.\n",
      "\n",
      "\n",
      "  df['Height'].fillna(df['Height'].mean(), inplace=True)\n",
      "C:\\Users\\mathew.j\\AppData\\Local\\Temp\\ipykernel_21376\\95895862.py:3: FutureWarning: A value is trying to be set on a copy of a DataFrame or Series through chained assignment using an inplace method.\n",
      "The behavior will change in pandas 3.0. This inplace method will never work because the intermediate object on which we are setting values always behaves as a copy.\n",
      "\n",
      "For example, when doing 'df[col].method(value, inplace=True)', try using 'df.method({col: value}, inplace=True)' or df[col] = df[col].method(value) instead, to perform the operation inplace on the original object.\n",
      "\n",
      "\n",
      "  df['Weight'].fillna(df['Weight'].mean(), inplace=True)\n"
     ]
    }
   ],
   "source": [
    "# Fill missing values in Height and Weight\n",
    "df['Height'].fillna(df['Height'].mean(), inplace=True)\n",
    "df['Weight'].fillna(df['Weight'].mean(), inplace=True)\n"
   ]
  },
  {
   "cell_type": "code",
   "execution_count": 24,
   "id": "a1bca627-23bb-4ca2-ac41-3522a9fd0338",
   "metadata": {},
   "outputs": [],
   "source": [
    "# Convert to float\n",
    "df['Height'] = df['Height'].astype(float)\n",
    "df['Weight'] = df['Weight'].astype(float)\n"
   ]
  },
  {
   "cell_type": "code",
   "execution_count": 25,
   "id": "ec24f8dd-7a76-4530-8690-58c9c2cf9007",
   "metadata": {},
   "outputs": [
    {
     "name": "stdout",
     "output_type": "stream",
     "text": [
      "Model Accuracy: 100.00%\n"
     ]
    }
   ],
   "source": [
    "from sklearn.model_selection import train_test_split\n",
    "from sklearn.ensemble import RandomForestClassifier\n",
    "\n",
    "# Example: Predicting medal wins based on Age, Height, Weight\n",
    "features = df[['Age', 'Height', 'Weight']].fillna(0)\n",
    "target = df['Medal'].notnull().astype(int)  # 1 if they won a medal, 0 otherwise\n",
    "\n",
    "X_train, X_test, y_train, y_test = train_test_split(features, target, test_size=0.3, random_state=42)\n",
    "model = RandomForestClassifier()\n",
    "model.fit(X_train, y_train)\n",
    "\n",
    "# Evaluate the model\n",
    "print(f\"Model Accuracy: {model.score(X_test, y_test) * 100:.2f}%\")\n"
   ]
  },
  {
   "cell_type": "code",
   "execution_count": 27,
   "id": "d6344e7a-1932-47f7-b3b4-ad2d4f570a6d",
   "metadata": {},
   "outputs": [],
   "source": [
    "df_cleaned.to_csv('cleaned_athlete_events.csv', index=False)\n"
   ]
  },
  {
   "cell_type": "code",
   "execution_count": null,
   "id": "2c50725b-9ec7-4e84-9809-c011b535b74f",
   "metadata": {},
   "outputs": [],
   "source": []
  }
 ],
 "metadata": {
  "kernelspec": {
   "display_name": "Python 3 (ipykernel)",
   "language": "python",
   "name": "python3"
  },
  "language_info": {
   "codemirror_mode": {
    "name": "ipython",
    "version": 3
   },
   "file_extension": ".py",
   "mimetype": "text/x-python",
   "name": "python",
   "nbconvert_exporter": "python",
   "pygments_lexer": "ipython3",
   "version": "3.12.6"
  }
 },
 "nbformat": 4,
 "nbformat_minor": 5
}
